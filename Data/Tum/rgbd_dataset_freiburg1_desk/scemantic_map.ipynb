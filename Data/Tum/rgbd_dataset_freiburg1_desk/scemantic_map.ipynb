{
 "cells": [
  {
   "cell_type": "code",
   "execution_count": null,
   "metadata": {},
   "outputs": [],
   "source": []
  },
  {
   "cell_type": "markdown",
   "metadata": {},
   "source": [
    "# code结构\n",
    "    + 读取txt,建立一个mappoint类\n",
    "    + 读取整个rgb文件夹，用一个列表维护所有的图像文件名,列表mats\n",
    "    + 读取整个txt，对里面的结果进行解析，并不断的新建mappoint,所有的mappoint用一个points列表维护\n",
    "    + 遍历points列表，对于每一个point,求解它的class_id,这里很费时间的，赶紧把类别搞清楚，instance先不管了\n",
    "    + 这份代码没有考虑instance,所以要更新一份别的了，emmm，得到points结果后写到txt，把class_id解析进去就好了"
   ]
  },
  {
   "cell_type": "code",
   "execution_count": 2,
   "metadata": {},
   "outputs": [],
   "source": [
    "class MapPoint():\n",
    "    def __init__(self, global_id):\n",
    "        self.global_id = global_id\n",
    "        self.mat_id = -1\n",
    "        self.x_corrdi = -1\n",
    "        self.y_corrdi = -1\n",
    "        self.class_id = -1\n",
    "        self.class_name = 'Background 100%'"
   ]
  },
  {
   "cell_type": "code",
   "execution_count": 3,
   "metadata": {},
   "outputs": [],
   "source": [
    "import os\n",
    "\n",
    "path = 'rgb/'\n",
    "dirs = os.listdir(path)\n",
    "mats = sorted(dirs, key = lambda x: float(x[:-4]))\n",
    "#dirs = sorted([float(x[:-4]) for x in dirs])\n",
    "#mats = [str(x)+'.png' for x in dirs]\n"
   ]
  },
  {
   "cell_type": "code",
   "execution_count": 4,
   "metadata": {},
   "outputs": [],
   "source": [
    "cnt = 0\n",
    "points = []\n",
    "with open(\"scmantic_saving.txt\", \"r\") as f:\n",
    "    for line in f: # for line in f 竟然就是逐行读去了，醉了醉了\n",
    "        s = line.strip('\\n').split(' ')\n",
    "        #print(s)\n",
    "        if s[0] == 'global':\n",
    "            point = MapPoint(int(s[3]))\n",
    "            point.mat_id = int(s[4])\n",
    "            point.x_corrdi = float(s[6])\n",
    "            point.y_corrdi = float(s[7])\n",
    "            points.append(point)\n",
    "        else:\n",
    "            pass\n",
    "        #cnt += 1\n",
    "        #if cnt > 10:\n",
    "        #    break"
   ]
  },
  {
   "cell_type": "code",
   "execution_count": 5,
   "metadata": {},
   "outputs": [],
   "source": [
    "import detectron2\n",
    "import cv2\n",
    "from detectron2.config import get_cfg\n",
    "from detectron2.engine import DefaultPredictor\n",
    "from detectron2.data import MetadataCatalog\n",
    "\n",
    "cfg = get_cfg()\n",
    "cfg.merge_from_file(\"/home/zherlock/InstanceDetection/detectron2/configs/COCO-InstanceSegmentation/mask_rcnn_R_50_FPN_3x.yaml\")   # load values from a file\n",
    "cfg.MODEL.ROI_HEADS.SCORE_THRESH_TEST = 0.5 \n",
    "cfg.merge_from_list([\"MODEL.WEIGHTS\", \"/home/zherlock/InstanceDetection/detectron2/pre_train_model/model_final_f10217.pkl\",\"MODEL.DEVICE\",\"cpu\"]) \n",
    "#print(cfg.dump())\n",
    "predictor = DefaultPredictor(cfg)\n",
    "\n",
    "metadata = MetadataCatalog.get(cfg.DATASETS.TRAIN[0])\n"
   ]
  },
  {
   "cell_type": "code",
   "execution_count": 6,
   "metadata": {},
   "outputs": [],
   "source": [
    "def _create_text_labels(classes, scores, class_names):\n",
    "    \"\"\"\n",
    "    Args:\n",
    "        classes (list[int] or None):\n",
    "        scores (list[float] or None):\n",
    "        class_names (list[str] or None):\n",
    "\n",
    "    Returns:\n",
    "        list[str] or None\n",
    "    \"\"\"\n",
    "    labels = None\n",
    "    if classes is not None and class_names is not None and len(class_names) > 1:\n",
    "        labels = [class_names[i] for i in classes]\n",
    "    if scores is not None:\n",
    "        if labels is None:\n",
    "            labels = [\"{:.0f}%\".format(s * 100) for s in scores]\n",
    "        else:\n",
    "            labels = [\"{} {:.0f}%\".format(l, s * 100) for l, s in zip(labels, scores)]\n",
    "    return labels"
   ]
  },
  {
   "cell_type": "code",
   "execution_count": 7,
   "metadata": {},
   "outputs": [],
   "source": [
    "#挺多地图点都出现在同一个关键帧里，用一个hashmap存储一个图片的结果，如果遇到相同的就查找就好\n",
    "#并不是每个点都属于物体呢,挺多关键点在背景里面的"
   ]
  },
  {
   "cell_type": "code",
   "execution_count": 8,
   "metadata": {},
   "outputs": [],
   "source": [
    "#图片是640*480的，可能是行列弄反了吧\n",
    "#len(output[\"instances\"].pred_masks[0] is 480\n",
    "#len(output[\"instances\"].pred_masks[0][0] is 640"
   ]
  },
  {
   "cell_type": "code",
   "execution_count": 14,
   "metadata": {
    "scrolled": true
   },
   "outputs": [
    {
     "name": "stdout",
     "output_type": "stream",
     "text": [
      "0\n",
      "1\n",
      "2\n",
      "3\n",
      "labels are ['tv 77%', 'laptop 57%', 'book 56%', 'laptop 52%']\n",
      "len of labels is 4\n",
      "socres are tensor([0.7711, 0.5690, 0.5596, 0.5242])\n",
      "point 3 belongs to laptop 52%\n",
      "4\n",
      "5\n",
      "6\n",
      "7\n",
      "point 7 belongs to laptop 52%\n",
      "8\n",
      "9\n",
      "10\n",
      "2 points are recognized \n",
      "4.7809367179870605 seconds has past\n"
     ]
    }
   ],
   "source": [
    "import time\n",
    "\n",
    "#字典，用于保存一个图片识别的结果\n",
    "seg_output = {}\n",
    "#字典，保存一个图片id下的\n",
    "mat_dir = os.path.join(os.getcwd(), 'rgb')\n",
    "cnt = 0\n",
    "recognize = 0\n",
    "start = time.time()\n",
    "for point in points:\n",
    "    print(point.global_id)\n",
    "    mat_path = os.path.join(mat_dir, mats[point.mat_id])\n",
    "    if point.mat_id in seg_output:\n",
    "        output = seg_output[point.mat_id]\n",
    "        if point.global_id == 3:\n",
    "            print('labels are', output['labels'])\n",
    "            print('len of labels is', len(output['labels']))\n",
    "            print('socres are', output[\"instances\"].scores)\n",
    "        for i in range(len(output[\"instances\"])):\n",
    "            if output[\"instances\"].pred_masks[i][int(point.y_corrdi)][int(point.x_corrdi)]:\n",
    "                point.class_id = output[\"instances\"].pred_classes[i]\n",
    "                point.class_name = output['labels'][i]\n",
    "                print('point {} belongs to {}'.format(point.global_id, point.class_name))\n",
    "                recognize += 1\n",
    "                break #假设不存在一个像素被两个instance占用\n",
    "    else:\n",
    "        im = cv2.imread(mat_path)\n",
    "        #cv2.imshow('test',im)\n",
    "        #cv2.waitKey(0)\n",
    "        #cv2.destroyAllWindows()\n",
    "        #break\n",
    "        output = predictor(im)\n",
    "        #print('x coor is ',len(output[\"instances\"].pred_masks[0]))\n",
    "        #print('y coor is ',len(output[\"instances\"].pred_masks[0][0]))\n",
    "        #break\n",
    "        output['labels'] = _create_text_labels(output[\"instances\"].pred_classes, output[\"instances\"].scores, metadata.get(\"thing_classes\", None))\n",
    "        seg_output[point.mat_id] = output\n",
    "        for i in range(len(output[\"instances\"])):\n",
    "            if output[\"instances\"].pred_masks[i][int(point.y_corrdi)][int(point.x_corrdi)]:\n",
    "                point.class_id = output[\"instances\"].pred_classes[i]\n",
    "                point.class_name = output['labels'][i]\n",
    "                print('point {} belongs to {}'.format(point.global_id, point.class_name))\n",
    "                recognize += 1\n",
    "                break\n",
    "    #cv2.imshow('test',im)\n",
    "    #cv2.waitKey(0)\n",
    "    #cv2.destroyAllWindows()\n",
    "    #print(mat_path)\n",
    "    cnt += 1\n",
    "    if cnt > 10:\n",
    "        break\n",
    "print(\"{} points are recognized \".format(recognize))\n",
    "end = time.time()\n",
    "print('{} seconds has past'.format(end - start))"
   ]
  },
  {
   "cell_type": "code",
   "execution_count": null,
   "metadata": {},
   "outputs": [],
   "source": [
    "#1589 points are recognized \n",
    "#389.0116274356842 seconds has past,宝贵的６分钟噢\n"
   ]
  },
  {
   "cell_type": "code",
   "execution_count": null,
   "metadata": {},
   "outputs": [],
   "source": [
    "float('1.000')"
   ]
  },
  {
   "cell_type": "code",
   "execution_count": null,
   "metadata": {},
   "outputs": [],
   "source": [
    "import time\n",
    "start = time.time()\n",
    "time.sleep(5)\n",
    "end = time.time()\n",
    "print('{} seconds has past'.format(end - start))"
   ]
  },
  {
   "cell_type": "code",
   "execution_count": null,
   "metadata": {},
   "outputs": [],
   "source": []
  },
  {
   "cell_type": "code",
   "execution_count": null,
   "metadata": {},
   "outputs": [],
   "source": [
    "float('1305031452.791720')"
   ]
  },
  {
   "cell_type": "code",
   "execution_count": null,
   "metadata": {},
   "outputs": [],
   "source": [
    "mats[0]"
   ]
  },
  {
   "cell_type": "code",
   "execution_count": null,
   "metadata": {},
   "outputs": [],
   "source": [
    "points[3].global_id"
   ]
  },
  {
   "cell_type": "code",
   "execution_count": null,
   "metadata": {},
   "outputs": [],
   "source": [
    "points[5].class_name"
   ]
  },
  {
   "cell_type": "code",
   "execution_count": null,
   "metadata": {},
   "outputs": [],
   "source": [
    "os.path.join(os.getcwd(), 'rgb')"
   ]
  },
  {
   "cell_type": "code",
   "execution_count": null,
   "metadata": {},
   "outputs": [],
   "source": [
    "len(points)"
   ]
  },
  {
   "cell_type": "code",
   "execution_count": null,
   "metadata": {},
   "outputs": [],
   "source": [
    "points[0].mat_id"
   ]
  },
  {
   "cell_type": "code",
   "execution_count": null,
   "metadata": {},
   "outputs": [],
   "source": [
    "os.getcwd()"
   ]
  },
  {
   "cell_type": "code",
   "execution_count": null,
   "metadata": {},
   "outputs": [],
   "source": [
    "mats[34]"
   ]
  },
  {
   "cell_type": "code",
   "execution_count": null,
   "metadata": {},
   "outputs": [],
   "source": [
    "points[0].global_id"
   ]
  },
  {
   "cell_type": "code",
   "execution_count": null,
   "metadata": {},
   "outputs": [],
   "source": [
    "with open(\"scmantic_saving.txt\", \"r\") as f:\n",
    "    while f.readline():\n",
    "        print(f.readline())\n",
    "        break"
   ]
  },
  {
   "cell_type": "code",
   "execution_count": null,
   "metadata": {},
   "outputs": [],
   "source": [
    "mats[0]"
   ]
  },
  {
   "cell_type": "code",
   "execution_count": null,
   "metadata": {},
   "outputs": [],
   "source": [
    "mats[-1]"
   ]
  },
  {
   "cell_type": "code",
   "execution_count": null,
   "metadata": {},
   "outputs": [],
   "source": [
    "a = [1,2,3,4]\n",
    "a[:-1]"
   ]
  },
  {
   "cell_type": "code",
   "execution_count": null,
   "metadata": {},
   "outputs": [],
   "source": [
    "dirs[0]"
   ]
  },
  {
   "cell_type": "code",
   "execution_count": null,
   "metadata": {},
   "outputs": [],
   "source": [
    "dirs[1]"
   ]
  },
  {
   "cell_type": "code",
   "execution_count": null,
   "metadata": {},
   "outputs": [],
   "source": [
    "dirs[2]"
   ]
  },
  {
   "cell_type": "code",
   "execution_count": null,
   "metadata": {},
   "outputs": [],
   "source": [
    "dirs[3]"
   ]
  },
  {
   "cell_type": "code",
   "execution_count": null,
   "metadata": {},
   "outputs": [],
   "source": [
    "ma = MapPoint(3)\n",
    "ma.id"
   ]
  },
  {
   "cell_type": "code",
   "execution_count": null,
   "metadata": {},
   "outputs": [],
   "source": [
    "ma.mat_Id = 5\n",
    "ma.mat_Id"
   ]
  }
 ],
 "metadata": {
  "kernelspec": {
   "display_name": "TorchCV",
   "language": "python",
   "name": "detectron2"
  },
  "language_info": {
   "codemirror_mode": {
    "name": "ipython",
    "version": 3
   },
   "file_extension": ".py",
   "mimetype": "text/x-python",
   "name": "python",
   "nbconvert_exporter": "python",
   "pygments_lexer": "ipython3",
   "version": "3.7.6"
  }
 },
 "nbformat": 4,
 "nbformat_minor": 2
}
