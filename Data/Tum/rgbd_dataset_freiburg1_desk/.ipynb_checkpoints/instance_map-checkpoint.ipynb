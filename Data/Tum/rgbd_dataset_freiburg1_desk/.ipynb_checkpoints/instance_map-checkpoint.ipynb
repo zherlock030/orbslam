{
 "cells": [
  {
   "cell_type": "markdown",
   "metadata": {},
   "source": [
    "# code结构\n",
    "    + 读取txt,建立一个mappoint类\n",
    "    + 读取整个rgb文件夹，用一个列表维护所有的图像文件名,列表mats\n",
    "    + 读取整个txt，对里面的结果进行解析，并不断的新建mappoint,所有的mappoint用一个points列表维护\n",
    "        + mappoint里面的信息，用字典维护，键是matid，值是x坐标,y坐标\n",
    "        + class_id,class_name,置信度，要不要放在字典里呢\n",
    "    + 用一个字典维护，mats 和　points的对应关系，一个mat_id可以对应多个point_id,一个point_id也可以对应多个mat_id,还有必要吗，有了从mpid->matid的查询，从mat_id查找所有的mpid,似乎不是很重要了\n"
   ]
  },
  {
   "cell_type": "markdown",
   "metadata": {},
   "source": [
    "+ 遍历每一个mappoint\n",
    "    ++ 如果mappoint的某一帧结果已经被计算了，那么就用那一帧的结果分配类别\n",
    "    ++ 在字典里找出，所有相同类别的点，\n",
    "    ++ 对每个点计算和当前点的共视关系，如果存在共视，那么找到这个共视下的结果，属于同一实例，break，不属于，继续循环\n",
    "    ++ 如果一直没找到实例，那就分配一个新的实例\n",
    "    ++ 这个方法感觉相对轻量级\n",
    "    \n",
    "这里有个假设，分类网络对不同帧的分类结果一样，没有考虑各种冲突什么的，\n",
    "还有就是orbslam保存的共视帧，不知道会不会少o,"
   ]
  },
  {
   "cell_type": "code",
   "execution_count": 1,
   "metadata": {},
   "outputs": [],
   "source": [
    "class MapPoint():\n",
    "    def __init__(self, global_id):\n",
    "        self.global_id = global_id\n",
    "        self.mats = {}\n",
    "        self.class_id = -1\n",
    "        self.class_name = 'background'\n",
    "        self.score = 0\n",
    "        self.instance_id = ''"
   ]
  },
  {
   "cell_type": "code",
   "execution_count": 2,
   "metadata": {},
   "outputs": [],
   "source": [
    "import os\n",
    "\n",
    "path = 'rgb/'\n",
    "dirs = os.listdir(path)\n",
    "#所有图片文件名\n",
    "mats = sorted(dirs, key = lambda x: float(x[:-4]))\n",
    "#len(mats) = 613,600张图片\n",
    "#dirs = sorted([float(x[:-4]) for x in dirs])\n",
    "#mats = [str(x)+'.png' for x in dirs]\n"
   ]
  },
  {
   "cell_type": "code",
   "execution_count": 3,
   "metadata": {},
   "outputs": [
    {
     "name": "stdout",
     "output_type": "stream",
     "text": [
      "101 key frames and 3205 mppoints are envolved\n"
     ]
    }
   ],
   "source": [
    "cnt = 0\n",
    "points = []\n",
    "mat_set = []\n",
    "with open(\"scmantic_saving.txt\", \"r\") as f:\n",
    "    for line in f: # for line in f 竟然就是逐行读去了，醉了醉了\n",
    "        s = line.strip('\\n').split(' ')\n",
    "        #print(s)\n",
    "        if s[0] == 'global':\n",
    "            point = MapPoint(int(s[3]))\n",
    "            points.append(point)\n",
    "            point.mats[int(s[4])] = [float(s[6]), float(s[7])]\n",
    "            cnt += 1\n",
    "            mat_set.append(int(s[4]))\n",
    "            #point.mat_id = int(s[4])\n",
    "            #point.x_corrdi = float(s[6])\n",
    "            #point.y_corrdi = float(s[7])\n",
    "        elif s[0] == \"mappoint\":\n",
    "            pass\n",
    "        else:\n",
    "            point.mats[int(s[0])] = [float(s[2]), float(s[3])]\n",
    "            mat_set.append(int(s[0]))\n",
    "        #if cnt > 10:\n",
    "        #    break\n",
    "mat_set = set(mat_set)\n",
    "print(\"{} key frames and {} mppoints are envolved\".format(len(mat_set), cnt))\n",
    "#600张图片里面的１０１张被选作为关键帧，"
   ]
  },
  {
   "cell_type": "code",
   "execution_count": 4,
   "metadata": {},
   "outputs": [],
   "source": [
    "import detectron2\n",
    "import cv2\n",
    "from detectron2.config import get_cfg\n",
    "from detectron2.engine import DefaultPredictor\n",
    "from detectron2.data import MetadataCatalog\n",
    "\n",
    "cfg = get_cfg()\n",
    "cfg.merge_from_file(\"/home/zherlock/InstanceDetection/detectron2/configs/COCO-InstanceSegmentation/mask_rcnn_R_50_FPN_3x.yaml\")   # load values from a file\n",
    "cfg.MODEL.ROI_HEADS.SCORE_THRESH_TEST = 0.5 \n",
    "cfg.merge_from_list([\"MODEL.WEIGHTS\", \"/home/zherlock/InstanceDetection/detectron2/pre_train_model/model_final_f10217.pkl\",\"MODEL.DEVICE\",\"cpu\"]) \n",
    "#print(cfg.dump())\n",
    "predictor = DefaultPredictor(cfg)\n",
    "\n",
    "metadata = MetadataCatalog.get(cfg.DATASETS.TRAIN[0])\n",
    "labels = metadata.get(\"thing_classes\", None) #所有label名,80类物体哇"
   ]
  },
  {
   "cell_type": "code",
   "execution_count": null,
   "metadata": {},
   "outputs": [],
   "source": [
    "#挺多地图点都出现在同一个关键帧里，用一个hashmap存储一个图片的结果，如果遇到相同的就查找就好\n",
    "#并不是每个点都属于物体呢,挺多关键点在背景里面的"
   ]
  },
  {
   "cell_type": "code",
   "execution_count": null,
   "metadata": {},
   "outputs": [],
   "source": [
    "#图片是640*480的，可能是行列弄反了吧\n",
    "#len(output[\"instances\"].pred_masks[0] is 480\n",
    "#len(output[\"instances\"].pred_masks[0][0] is 640"
   ]
  },
  {
   "cell_type": "code",
   "execution_count": 5,
   "metadata": {},
   "outputs": [],
   "source": [
    "def getoutput(mid:int):\n",
    "    if mid in res_output:\n",
    "        return res_output[mid]\n",
    "    mat_path = os.path.join(mat_dir, mats[mid])\n",
    "    im = cv2.imread(mat_path)\n",
    "    output = predictor(im)\n",
    "    res_output[p.mat_id] = output\n",
    "    return output"
   ]
  },
  {
   "cell_type": "code",
   "execution_count": 6,
   "metadata": {},
   "outputs": [],
   "source": [
    "def convisual(pa:MapPoint, pb:MapPoint):\n",
    "    if not pb:\n",
    "        return None\n",
    "    set_a = set([mid for mid in pa.mats])\n",
    "    set_b = set([mid for mid in pb.mats])\n",
    "    jiaoji = set_a & set_b\n",
    "    if jiaoji:\n",
    "        return jiaoji.pop()\n",
    "    else:\n",
    "        return None"
   ]
  },
  {
   "cell_type": "code",
   "execution_count": 7,
   "metadata": {},
   "outputs": [],
   "source": [
    "def assign_inst(p:MapPoint):\n",
    "    candidates = []\n",
    "    if p.class_name in label_dic:\n",
    "        candidates = label_dic[p.class_name]\n",
    "    for candy in candidates:\n",
    "        mid = convisual(p, candy)\n",
    "        if mid:\n",
    "            output = getoutput(mid)\n",
    "            for i in range(len(output[\"instances\"])):\n",
    "                if output[\"instances\"].pred_classes == p.class_id:\n",
    "                    if output[\"instances\"].pred_masks[i][int(p.mats[mid][1])][int(p.mats[mid][0])]:\n",
    "                        if candy[\"instances\"].pred_masks[i][int(candy.mats[mid][1])][int(candy.mats[mid][0])]:\n",
    "                            p.instance_id = candy.instance_id\n",
    "                            label_dic[p.class_name].append(p)\n",
    "                            return\n",
    "    #新建一个instance\n",
    "    if p.class_name in instance_dic:\n",
    "        i = instance_dic[p.class_name][-1]\n",
    "        instance_dic[p.class_name].append(i+1)\n",
    "        name = str(p.class_name) + ' ' + str(instance_dic[p.class_name][-1])\n",
    "    else:\n",
    "        instance_dic[p.class_name] = [1]\n",
    "        name = str(p.class_name) + ' ' + str(int(1))\n",
    "    p.instance_id = name\n",
    "    label_dic[p.class_name].append(p)\n",
    "    return\n",
    "        "
   ]
  },
  {
   "cell_type": "code",
   "execution_count": 8,
   "metadata": {},
   "outputs": [],
   "source": [
    "def getoutputp(p:MapPoint):\n",
    "    for mid in p.mats:\n",
    "        if mid in res_output:\n",
    "            return res_output[mid], mid\n",
    "    for mid in p.mats:\n",
    "        mat_path = os.path.join(mat_dir, mats[mid])\n",
    "        im = cv2.imread(mat_path)\n",
    "        output = predictor(im)\n",
    "        res_output[mid] = output\n",
    "        return output, mid"
   ]
  },
  {
   "cell_type": "code",
   "execution_count": null,
   "metadata": {},
   "outputs": [],
   "source": [
    "for i in range(5):\n",
    "        print(i)"
   ]
  },
  {
   "cell_type": "code",
   "execution_count": null,
   "metadata": {},
   "outputs": [],
   "source": [
    "def assign_clas(p:MapPoint, output:dict, mid:int):\n",
    "    print('into')\n",
    "    print('x cor is {} and y cor is {}'.format(p.mats[mid][1], p.mats[mid][0]))\n",
    "    for i in range(len(output[\"instances\"])):\n",
    "            if output[\"instances\"].pred_masks[i][int(p.mats[mid][1])][int(p.mats[mid][0])]:\n",
    "                print('getin')\n",
    "                p.class_id = output[\"instances\"].pred_classes[i]\n",
    "                p.class_name = labels[i]\n",
    "                p.score = output[\"instances\"].scores[i]\n",
    "                return"
   ]
  },
  {
   "cell_type": "code",
   "execution_count": null,
   "metadata": {},
   "outputs": [],
   "source": [
    "import time\n",
    "\n",
    "mat_dir = os.path.join(os.getcwd(), 'rgb')\n",
    "cnt = 0\n",
    "recognize = 0 #计数，被识别的mpoint个数\n",
    "#字典，用于保存一个图片识别的结果,key是id,值是output\n",
    "res_output = {}\n",
    "# 字典，保存一个类别下的mappoint，键为class_id,值是mppoint列表\n",
    "label_dic = {}\n",
    "# 字典，维护现存的instance,键是label名（字符串），值是int列表，\n",
    "instance_dic = {}\n",
    "\n",
    "\n",
    "start = time.time()\n",
    "\n",
    "for p in points:\n",
    "    print('this is mpoint {}'.format(p.global_id))\n",
    "    output, mid = getoutputp(p)\n",
    "    #print('output with length {}'.format(len(output[\"instances\"])))\n",
    "    print('with mid {}'.format(mid))\n",
    "    #print('x cor is {} and y cor is {}'.format(p.mats[mid][0], p.mats[mid][1]))\n",
    "    assign_clas(p, output, mid)\n",
    "    if p.class_id != -1:\n",
    "        assign_inst(p)\n",
    "        recognize += 1\n",
    "        print('we got {}'.format(recognize))\n",
    "    cnt += 1\n",
    "    if cnt > 10:\n",
    "        break\n",
    "\n",
    "print('{} was recognized'.format(recognize))\n",
    "        \n",
    "#需要观察的有mp的各项属性，label_dic,还有instance_dic"
   ]
  },
  {
   "cell_type": "code",
   "execution_count": null,
   "metadata": {},
   "outputs": [],
   "source": []
  },
  {
   "cell_type": "code",
   "execution_count": null,
   "metadata": {},
   "outputs": [],
   "source": [
    "instance_dic"
   ]
  },
  {
   "cell_type": "code",
   "execution_count": null,
   "metadata": {},
   "outputs": [],
   "source": [
    "label_dic"
   ]
  },
  {
   "cell_type": "code",
   "execution_count": null,
   "metadata": {},
   "outputs": [],
   "source": [
    "points[0]"
   ]
  },
  {
   "cell_type": "code",
   "execution_count": null,
   "metadata": {},
   "outputs": [],
   "source": [
    "import time\n",
    "\n",
    "mat_dir = os.path.join(os.getcwd(), 'rgb')\n",
    "cnt = 0\n",
    "recognize = 0 #计数，被识别的mpoint个数\n",
    "#字典，用于保存一个图片识别的结果,key是id,值是output\n",
    "res_output = {}\n",
    "# 字典，保存一个类别下的mappoint，键为class_id,值是mppoint列表\n",
    "label_dic = {}\n",
    "# 字典，维护现存的instance,键是label名（字符串），值是int列表，\n",
    "instance_dic = {}\n",
    "\n",
    "\n",
    "start = time.time()\n",
    "\n",
    "for point in points:\n",
    "    #print(point.global_id)\n",
    "    output, mid = getoutput(point)\n",
    "    if k != -1:\n",
    "        pass\n",
    "    else:\n",
    "        im = cv2.imread(mat_path)\n",
    "        output = predictor(im)\n",
    "        seg_output[point.mat_id] = output\n",
    "        assign_clas(point, output)\n",
    "        assign_inst(point, label_dic, instance_dic)\n",
    "        \n",
    "        \n",
    "        \n",
    "        "
   ]
  },
  {
   "cell_type": "code",
   "execution_count": null,
   "metadata": {},
   "outputs": [],
   "source": [
    "a = []\n",
    "for i in a:\n",
    "    pass"
   ]
  },
  {
   "cell_type": "code",
   "execution_count": null,
   "metadata": {},
   "outputs": [],
   "source": [
    "import time\n",
    "\n",
    "#字典，用于保存一个图片识别的结果\n",
    "seg_output = {}\n",
    "#字典，保存一个图片id下的\n",
    "mat_dir = os.path.join(os.getcwd(), 'rgb')\n",
    "cnt = 0\n",
    "recognize = 0\n",
    "start = time.time()\n",
    "for point in points:\n",
    "    print(point.global_id)\n",
    "    mat_path = os.path.join(mat_dir, mats[point.mat_id])\n",
    "    if point.mat_id in seg_output:\n",
    "        output = seg_output[point.mat_id]\n",
    "        for i in range(len(output[\"instances\"])):\n",
    "            if output[\"instances\"].pred_masks[i][int(point.y_corrdi)][int(point.x_corrdi)]:\n",
    "                point.class_id = output[\"instances\"].pred_classes[i]\n",
    "                point.class_name = output['labels'][i]\n",
    "                #print('point {} belongs to {}'.format(point.global_id, point.class_name))\n",
    "                recognize += 1\n",
    "                break #假设不存在一个像素被两个instance占用\n",
    "    else:\n",
    "        im = cv2.imread(mat_path)\n",
    "        #cv2.imshow('test',im)\n",
    "        #cv2.waitKey(0)\n",
    "        #cv2.destroyAllWindows()\n",
    "        #break\n",
    "        output = predictor(im)\n",
    "        #print('x coor is ',len(output[\"instances\"].pred_masks[0]))\n",
    "        #print('y coor is ',len(output[\"instances\"].pred_masks[0][0]))\n",
    "        #break\n",
    "        output['labels'] = _create_text_labels(output[\"instances\"].pred_classes, output[\"instances\"].scores, metadata.get(\"thing_classes\", None))\n",
    "        seg_output[point.mat_id] = output\n",
    "        for i in range(len(output[\"instances\"])):\n",
    "            if output[\"instances\"].pred_masks[i][int(point.y_corrdi)][int(point.x_corrdi)]:\n",
    "                point.class_id = output[\"instances\"].pred_classes[i]\n",
    "                point.class_name = output['labels'][i]\n",
    "                #print('point {} belongs to {}'.format(point.global_id, point.class_name))\n",
    "                recognize += 1\n",
    "                break\n",
    "    #cv2.imshow('test',im)\n",
    "    #cv2.waitKey(0)\n",
    "    #cv2.destroyAllWindows()\n",
    "    #print(mat_path)\n",
    "    cnt += 1\n",
    "    #if cnt > 50:\n",
    "    #    break\n",
    "print(\"{} points are recognized \".format(recognize))\n",
    "end = time.time()\n",
    "print('{} seconds has past'.format(end - start))"
   ]
  },
  {
   "cell_type": "code",
   "execution_count": null,
   "metadata": {},
   "outputs": [],
   "source": [
    "#1589 points are recognized \n",
    "#389.0116274356842 seconds has past,宝贵的６分钟噢\n"
   ]
  },
  {
   "cell_type": "code",
   "execution_count": null,
   "metadata": {},
   "outputs": [],
   "source": [
    "b[2] = 5\n",
    "b[2]"
   ]
  },
  {
   "cell_type": "code",
   "execution_count": null,
   "metadata": {},
   "outputs": [],
   "source": [
    "a = [1,2,3,3,3]\n",
    "a =set(a)\n",
    "a\n",
    "len(a)"
   ]
  },
  {
   "cell_type": "code",
   "execution_count": null,
   "metadata": {},
   "outputs": [],
   "source": [
    "a = set([1,2,3])\n",
    "b = set([2,3])\n",
    "k = a&b\n",
    "k.pop()"
   ]
  },
  {
   "cell_type": "code",
   "execution_count": null,
   "metadata": {},
   "outputs": [],
   "source": [
    "float('1.000')"
   ]
  },
  {
   "cell_type": "code",
   "execution_count": null,
   "metadata": {},
   "outputs": [],
   "source": [
    "len(mat_set)"
   ]
  },
  {
   "cell_type": "code",
   "execution_count": null,
   "metadata": {},
   "outputs": [],
   "source": [
    "def hasoutput(point:MapPoint, res:dict ):\n",
    "    for mat_id in points.mats:\n",
    "        if mat_id in res:\n",
    "            return mat_id\n",
    "    return -1"
   ]
  },
  {
   "cell_type": "code",
   "execution_count": null,
   "metadata": {},
   "outputs": [],
   "source": [
    "points[2].mats"
   ]
  },
  {
   "cell_type": "code",
   "execution_count": null,
   "metadata": {},
   "outputs": [],
   "source": [
    "def _create_text_labels(classes, scores, class_names):\n",
    "    \"\"\"\n",
    "    Args:\n",
    "        classes (list[int] or None):\n",
    "        scores (list[float] or None):\n",
    "        class_names (list[str] or None):\n",
    "\n",
    "    Returns:\n",
    "        list[str] or None\n",
    "    \"\"\"\n",
    "    labels = None\n",
    "    if classes is not None and class_names is not None and len(class_names) > 1:\n",
    "        labels = [class_names[i] for i in classes]\n",
    "    #if scores is not None:\n",
    "    #    if labels is None:\n",
    "    #        labels = [\"{:.0f}%\".format(s * 100) for s in scores]\n",
    "    #    else:\n",
    "    #        labels = [\"{} {:.0f}%\".format(l, s * 100) for l, s in zip(labels, scores)]\n",
    "    return labels"
   ]
  },
  {
   "cell_type": "code",
   "execution_count": null,
   "metadata": {},
   "outputs": [],
   "source": [
    "b"
   ]
  },
  {
   "cell_type": "code",
   "execution_count": null,
   "metadata": {},
   "outputs": [],
   "source": [
    "len(labels)"
   ]
  },
  {
   "cell_type": "code",
   "execution_count": null,
   "metadata": {},
   "outputs": [],
   "source": [
    "labels"
   ]
  },
  {
   "cell_type": "code",
   "execution_count": null,
   "metadata": {},
   "outputs": [],
   "source": [
    "import time\n",
    "start = time.time()\n",
    "time.sleep(5)\n",
    "end = time.time()\n",
    "print('{} seconds has past'.format(end - start))"
   ]
  },
  {
   "cell_type": "code",
   "execution_count": null,
   "metadata": {},
   "outputs": [],
   "source": []
  },
  {
   "cell_type": "code",
   "execution_count": null,
   "metadata": {},
   "outputs": [],
   "source": [
    "a = [1,2,3]\n",
    "b = {1:a}\n",
    "a.append(4)#1,2,3,4\n",
    "a = [1,2,3,4]#b[1]还是１，２，３\n",
    "b[1]\n",
    "b[2] = 22"
   ]
  },
  {
   "cell_type": "code",
   "execution_count": null,
   "metadata": {},
   "outputs": [],
   "source": [
    "for i in b:\n",
    "    print(i)\n",
    "    print(b[i])"
   ]
  },
  {
   "cell_type": "code",
   "execution_count": null,
   "metadata": {},
   "outputs": [],
   "source": [
    "len(mats)"
   ]
  },
  {
   "cell_type": "code",
   "execution_count": null,
   "metadata": {},
   "outputs": [],
   "source": [
    "float('1305031452.791720')"
   ]
  },
  {
   "cell_type": "code",
   "execution_count": null,
   "metadata": {},
   "outputs": [],
   "source": [
    "mats[0]"
   ]
  },
  {
   "cell_type": "code",
   "execution_count": null,
   "metadata": {},
   "outputs": [],
   "source": [
    "points[3].global_id"
   ]
  },
  {
   "cell_type": "code",
   "execution_count": null,
   "metadata": {},
   "outputs": [],
   "source": [
    "points[5].class_name"
   ]
  },
  {
   "cell_type": "code",
   "execution_count": null,
   "metadata": {},
   "outputs": [],
   "source": [
    "os.path.join(os.getcwd(), 'rgb')"
   ]
  },
  {
   "cell_type": "code",
   "execution_count": null,
   "metadata": {},
   "outputs": [],
   "source": [
    "len(points)"
   ]
  },
  {
   "cell_type": "code",
   "execution_count": null,
   "metadata": {},
   "outputs": [],
   "source": [
    "points[0].mat_id"
   ]
  },
  {
   "cell_type": "code",
   "execution_count": null,
   "metadata": {},
   "outputs": [],
   "source": [
    "os.getcwd()"
   ]
  },
  {
   "cell_type": "code",
   "execution_count": null,
   "metadata": {},
   "outputs": [],
   "source": [
    "mats[34]"
   ]
  },
  {
   "cell_type": "code",
   "execution_count": null,
   "metadata": {},
   "outputs": [],
   "source": [
    "points[0].global_id"
   ]
  },
  {
   "cell_type": "code",
   "execution_count": null,
   "metadata": {},
   "outputs": [],
   "source": [
    "with open(\"scmantic_saving.txt\", \"r\") as f:\n",
    "    while f.readline():\n",
    "        print(f.readline())\n",
    "        break"
   ]
  },
  {
   "cell_type": "code",
   "execution_count": null,
   "metadata": {},
   "outputs": [],
   "source": [
    "mats[0]"
   ]
  },
  {
   "cell_type": "code",
   "execution_count": null,
   "metadata": {},
   "outputs": [],
   "source": [
    "mats[-1]"
   ]
  },
  {
   "cell_type": "code",
   "execution_count": null,
   "metadata": {},
   "outputs": [],
   "source": [
    "a = [1,2,3,4]\n",
    "a[:-1]"
   ]
  },
  {
   "cell_type": "code",
   "execution_count": null,
   "metadata": {},
   "outputs": [],
   "source": [
    "dirs[0]"
   ]
  },
  {
   "cell_type": "code",
   "execution_count": null,
   "metadata": {},
   "outputs": [],
   "source": [
    "dirs[1]"
   ]
  },
  {
   "cell_type": "code",
   "execution_count": null,
   "metadata": {},
   "outputs": [],
   "source": [
    "dirs[2]"
   ]
  },
  {
   "cell_type": "code",
   "execution_count": null,
   "metadata": {},
   "outputs": [],
   "source": [
    "dirs[3]"
   ]
  },
  {
   "cell_type": "code",
   "execution_count": null,
   "metadata": {},
   "outputs": [],
   "source": [
    "ma = MapPoint(3)\n",
    "ma.id"
   ]
  },
  {
   "cell_type": "code",
   "execution_count": null,
   "metadata": {},
   "outputs": [],
   "source": [
    "ma.mat_Id = 5\n",
    "ma.mat_Id"
   ]
  }
 ],
 "metadata": {
  "kernelspec": {
   "display_name": "TorchCV",
   "language": "python",
   "name": "detectron2"
  },
  "language_info": {
   "codemirror_mode": {
    "name": "ipython",
    "version": 3
   },
   "file_extension": ".py",
   "mimetype": "text/x-python",
   "name": "python",
   "nbconvert_exporter": "python",
   "pygments_lexer": "ipython3",
   "version": "3.7.6"
  }
 },
 "nbformat": 4,
 "nbformat_minor": 2
}
